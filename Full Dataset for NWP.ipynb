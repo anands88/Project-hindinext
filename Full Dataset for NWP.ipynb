{
 "cells": [
  {
   "cell_type": "code",
   "execution_count": 9,
   "id": "26c5dcf3",
   "metadata": {},
   "outputs": [],
   "source": [
    "import ast"
   ]
  },
  {
   "cell_type": "code",
   "execution_count": 8,
   "id": "6cc2879e",
   "metadata": {},
   "outputs": [],
   "source": [
    "token_path = '/home/dai001/Project/Dataset/Tokenized-hindi-dataset'\n",
    "folderpath = \"/home/dai001/Project/Dataset/Full-dataset\"\n",
    "output_filename = \"Full-dataset-NWP\"\n",
    "output_filepath = folderpath+output_filename"
   ]
  },
  {
   "cell_type": "code",
   "execution_count": null,
   "id": "09e4ee45",
   "metadata": {},
   "outputs": [],
   "source": [
    "# Creating data for Next word prediction\n",
    "line_counter = 0\n",
    "file_counter = 1\n",
    "with open(token_path,'r') as r:\n",
    "    \n",
    "    for line in r:\n",
    "        line_counter += 1\n",
    "        #change string \"[1,2,3]\" to list [1,2,3]\n",
    "        line = ast.literal_eval(line.strip())\n",
    "\n",
    "        # getting features and target\n",
    "        input_data = []\n",
    "        target = []\n",
    "        for i in range(1,len(line)-1):\n",
    "            input_data.append(line[:i])\n",
    "            target.append(line[i])\n",
    "\n",
    "        # writing to file\n",
    "        with open(output_filepath+f\" {file_counter}\",'a') as w:\n",
    "            for j in range(len(input_data)):\n",
    "                data_pair = f\"{input_data[j]} {target[j]}\\n\"\n",
    "                w.write(data_pair)\n",
    "        #updating file counter\n",
    "        if line_counter%1000000==0:\n",
    "            file_counter += 1"
   ]
  }
 ],
 "metadata": {
  "kernelspec": {
   "display_name": "Python 3 (ipykernel)",
   "language": "python",
   "name": "python3"
  },
  "language_info": {
   "codemirror_mode": {
    "name": "ipython",
    "version": 3
   },
   "file_extension": ".py",
   "mimetype": "text/x-python",
   "name": "python",
   "nbconvert_exporter": "python",
   "pygments_lexer": "ipython3",
   "version": "3.10.9"
  }
 },
 "nbformat": 4,
 "nbformat_minor": 5
}
