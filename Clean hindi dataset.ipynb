{
 "cells": [
  {
   "cell_type": "markdown",
   "id": "7066552e",
   "metadata": {},
   "source": [
    "# Clean Hindi Dataset"
   ]
  },
  {
   "cell_type": "code",
   "execution_count": 219,
   "id": "4410aa96",
   "metadata": {},
   "outputs": [],
   "source": [
    "import string\n",
    "import re\n",
    "import time\n",
    "import os"
   ]
  },
  {
   "cell_type": "code",
   "execution_count": 220,
   "id": "b1a19578",
   "metadata": {},
   "outputs": [],
   "source": [
    "# Retrieves one paragraph or sentence as given in the dataset\n",
    "def reader(fp):\n",
    "    rs = ' '\n",
    "    sent = ''\n",
    "\n",
    "    while rs:\n",
    "        rs = fp.readline()\n",
    "        if rs == '\\n':\n",
    "            y = sent\n",
    "            sent = ''\n",
    "            yield y\n",
    "        else:\n",
    "            sent += rs.replace('\\n',' ')\n",
    "    y = sent\n",
    "    sent = ''\n",
    "    yield sent"
   ]
  },
  {
   "cell_type": "code",
   "execution_count": 221,
   "id": "9f3f6259",
   "metadata": {},
   "outputs": [],
   "source": [
    "# Cleans the hindi string passed\n",
    "def cleaner(s):\n",
    "    \n",
    "    #removing symbols or numbers or english letters from the beginning of a sentence\n",
    "    s = re.sub(r\"^[!\\\"#$%&\\'()*+,-./:;<=>?@[\\\\\\]^_`{|}~/a-zA-Z\\s0-9\\*]*\",'',s)\n",
    "    \n",
    "    #removing symbols or numbers or english words given inside brackets () or {} or []\n",
    "    s = re.sub(r\"(\\(|\\[|\\{)[!\\\"#$%&\\'()*+,-./:;<=>?@[\\\\\\]^_`{|}~/\\w\\s\\d\\*]*(\\}|\\)|\\])\",'',s)\n",
    "    \n",
    "    #removing symbols or numbers or english letters from the ending of a sentence\n",
    "    s = re.sub(r\"[-\\w\\d_:/\\\\][!\\\"#$%&\\'()*+,-./:;<=>?@[\\\\\\]^_`{|}~/a-zA-Z\\s0-9\\*]*$\",'',s)\n",
    "    \n",
    "    #removing all characters other than devanagiri and english, like unicode characters and symbols other than punctuations\n",
    "    #(\"\\u0900-\\u097f\" represents all devanagiri script)\n",
    "    s = re.sub(r\"[^\\w\\s\\d\\u0900-\\u097F!\\\"$%&\\'()*+,-./:;=?@[\\\\\\]_`{|}]+\",'',s)\n",
    "    \n",
    "    #Remove space from left side of .\n",
    "    s = re.sub(r\"\\s+\\.\",'.',s)\n",
    "    \n",
    "    #change . to | for sentence ending\n",
    "    #remove multiple dots (...)\n",
    "    s = re.sub(r\"\\.\\.+\",r\".\",s)\n",
    "    #first, for . which have no space after the . we will add a space\n",
    "    s = re.sub(r\"([\\u0900-\\u097F])\\.([\\u0900-\\u097F])\",r\"\\1। \\2\",s)\n",
    "    #second, for other . (we have to exclude decimal numbers)\n",
    "    s = re.sub(r\"([^\\d])\\.([^\\d])\",r\"\\1। \\2\",s)\n",
    "    \n",
    "    #stripping spaces at beginning and end of sentence\n",
    "    s = s.strip()\n",
    "    \n",
    "    #add | if the sentence does not have | at the end of it.\n",
    "    s = re.sub(r\"((?![।])[\\u0900-\\u097F\\d])$\",r\"\\1।\",s)\n",
    "    \n",
    "    #remove extra spaces between words\n",
    "    s = ' '.join(s.split())\n",
    "    \n",
    "    \n",
    "    return s"
   ]
  },
  {
   "cell_type": "code",
   "execution_count": 222,
   "id": "1ceac2b3",
   "metadata": {},
   "outputs": [
    {
     "name": "stdout",
     "output_type": "stream",
     "text": [
      "* * * * * * * * * * \n",
      "* * * * * * * * * * \n",
      "* * * * * * * * * * \n",
      "* * * * * * * * * * \n",
      "* * * * * * * * * * \n",
      "* * * * * * * * * * \n",
      "* * * * * * * * * * \n",
      "* * * * * * * * * * \n",
      "* * * * * * * * * * \n",
      "* * * * * * * * * * \n",
      "* * * * * * \n",
      "Total lines: 106391911\n",
      "Total lines with english words: 6087047\n",
      "Time taken: 14159.86 seconds\n"
     ]
    }
   ],
   "source": [
    "if __name__ == \"__main__\":\n",
    "    \n",
    "    folderpath = \"/media/dai/New Volume/Dataset/\"\n",
    "    input_filename = \"hindi.txt\"\n",
    "    output_filename = \"clean-hindi\"\n",
    "    input_filepath = folderpath+input_filename\n",
    "    output_filepath = folderpath+output_filename\n",
    "    \n",
    "    # English letters a-z,A-Z\n",
    "    letters = list(string.ascii_letters)\n",
    "    \n",
    "    #Swear words\n",
    "    swords = \"आंड़,आंड,आँड,बहनचोद,बेहेनचोद,भेनचोद,बकचोद,बकचोदी,बेवड़ा,बेवड़े,बेवकूफ,भड़ुआ,भड़वा,भोसड़ा,भोसड़ीके,भोसड़ीकी,भोसड़ीवाला,भोसड़ीवाले,बब्बे,बूबे,बुर,चरसी,चूचे,चूची,चुची,चोद,चुदने,चुदवा,चुदवाने,चाट,चूत,चूतिया,चुटिया,चूतिये,दलाल,दलले,फट्टू,गधा,गधे,गधालंड,गांड,गांडू,गंडफट,गंडिया,गंडिये,गू,गोटे,हग,हग्गू,हगने,हरामी,हरामजादा,हरामज़ादा,हरामजादे,हरामज़ादे,हरामखोर,झाट,झाटू,कुत्ता,कुत्ते,कुतिया,कुत्ती,लेंडी,लोड़े,लौड़े,लौड़ा,लोड़ा,लौडा,लिंग,लोडा,लोडे,लंड,लौंडा,लौंडे,लौंडी,लौंडिया,लुल्ली,मार,मारो,मारूंगा,मादरचोद,मादरचूत,मादरचुत,मम्मे,मूत,मुत,मूतने,मुतने,मूठ,मुठ,नुननी,नुननु,पाजी,पेसाब,पेशाब,पिल्ला,पिल्ले,पिसाब,पोरकिस्तान,रांड,रंडी,सुअर,सूअर,टट्टे,टट्टी,उल्\"\n",
    "    swear_words = set(swords.split(','))\n",
    "    \n",
    "    #To time the run\n",
    "    start_time = time.time()\n",
    "    with open(output_filepath,\"w\") as wp:\n",
    "        with open(input_filepath,\"r\") as fp:\n",
    "            excluded_lines = 0\n",
    "            line_counter = 0\n",
    "\n",
    "            for s in reader(fp):\n",
    "                s = cleaner(s)\n",
    "                line_counter += 1\n",
    "\n",
    "                #tokenizing sentence to check for swear words\n",
    "                ss = re.sub(r'[!\\\"#$%&\\'()*+,-./:;<=>?@[\\\\\\]^_`{|}~।]+',' ',s)\n",
    "\n",
    "                #checking if there are swear words or english words in the sentence, if not write to new file\n",
    "                if (set(ss.split()).intersection(swear_words) == set()) and (not any([True for x in letters if x in s])):\n",
    "                    wp.write(s+\"\\n\\n\")\n",
    "                else:\n",
    "                    excluded_lines += 1\n",
    "\n",
    "                #Just printing * to get approximate time for execution and approximate idea of how much processing completed\n",
    "                if line_counter%1000000 == 0:\n",
    "                    print(\"*\",end=' ')\n",
    "                    if line_counter%10000000 == 0:\n",
    "                        print()\n",
    "\n",
    "    # Printing the total lines in the dataset and the lines excluded and the time of the run\n",
    "    print(f\"\\nTotal lines: {line_counter}\")\n",
    "    print(f\"Total lines with english words: {excluded_lines}\")\n",
    "    end_time = time.time()\n",
    "    print(f\"Time taken: {end_time-start_time:.2f} seconds\")\n",
    "\n",
    "    \n",
    "    "
   ]
  }
 ],
 "metadata": {
  "kernelspec": {
   "display_name": "Python 3 (ipykernel)",
   "language": "python",
   "name": "python3"
  },
  "language_info": {
   "codemirror_mode": {
    "name": "ipython",
    "version": 3
   },
   "file_extension": ".py",
   "mimetype": "text/x-python",
   "name": "python",
   "nbconvert_exporter": "python",
   "pygments_lexer": "ipython3",
   "version": "3.10.9"
  }
 },
 "nbformat": 4,
 "nbformat_minor": 5
}
