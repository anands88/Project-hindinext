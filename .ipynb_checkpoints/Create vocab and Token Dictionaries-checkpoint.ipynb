{
 "cells": [
  {
   "cell_type": "markdown",
   "id": "14a29e23",
   "metadata": {},
   "source": [
    "# Creates Vocabulary and Token lookup and reverse dictionary and saves in the dataset folder"
   ]
  },
  {
   "cell_type": "code",
   "execution_count": 37,
   "id": "498a4586",
   "metadata": {},
   "outputs": [],
   "source": [
    "import re\n",
    "import pickle\n",
    "from Clean_hindi_dataset import reader"
   ]
  },
  {
   "cell_type": "code",
   "execution_count": 23,
   "id": "0e645789",
   "metadata": {},
   "outputs": [],
   "source": [
    "vocab = set()\n"
   ]
  },
  {
   "cell_type": "code",
   "execution_count": 38,
   "id": "61a2d8a5",
   "metadata": {},
   "outputs": [],
   "source": [
    "folderpath = \"/home/dai001/Project/Dataset/\"\n",
    "input_filename = \"clean-hindi-dataset\"\n",
    "output_filename = \"vocab.set\"\n",
    "input_filepath = folderpath+input_filename\n",
    "output_filepath = folderpath+output_filename"
   ]
  },
  {
   "cell_type": "code",
   "execution_count": null,
   "id": "4d7b0424",
   "metadata": {},
   "outputs": [],
   "source": [
    "with open(output_filepath,'wb') as wp:\n",
    "    with open(input_filepath,'r') as fp:\n",
    "\n",
    "            for s in reader(fp):\n",
    "                #Adding space between symbols in the sentences\n",
    "                s = re.sub(r'([^\\s])([!\\\"$%&\\'()*+,-./:;=?@[\\\\\\]_`{|}।])',r\"\\1 \\2\",s)\n",
    "                s = re.sub(r'([!\\\"$%&\\'()*+,-./:;=?@[\\\\\\]_`{|}।])([^\\s])',r\"\\1 \\2\",s)\n",
    "                \n",
    "                #splitting sentences by space\n",
    "                #remove anything above a length of 20\n",
    "                vocab.update(set([x for x in s.split() if len(x)<20]))\n",
    "                \n",
    "                #Add <OOV> token\n",
    "                vocab.add('<OOV>')\n",
    "                \n",
    "            print(\"Length of vocabulary:\",len(vocab))\n",
    "            pickle.dump(vocab,wp)\n",
    "            "
   ]
  },
  {
   "cell_type": "code",
   "execution_count": null,
   "id": "0c9c7209",
   "metadata": {
    "scrolled": false
   },
   "outputs": [],
   "source": [
    "wrd2id = {}\n",
    "id2wrd = {}\n",
    "for i,j in enumerate(vocab,1):\n",
    "    wrd2id[j] = i\n",
    "    id2wrd[i] = j"
   ]
  },
  {
   "cell_type": "code",
   "execution_count": null,
   "id": "166c3c19",
   "metadata": {},
   "outputs": [],
   "source": [
    "with open(folderpath+\"wrd2id.dictionary\",\"wb\") as w:\n",
    "    pickle.dump(wrd2id,w)\n",
    "    \n",
    "with open(folderpath+\"id2wrd.dictionary\",\"wb\") as w:\n",
    "    pickle.dump(id2wrd,w)"
   ]
  }
 ],
 "metadata": {
  "kernelspec": {
   "display_name": "Python 3 (ipykernel)",
   "language": "python",
   "name": "python3"
  },
  "language_info": {
   "codemirror_mode": {
    "name": "ipython",
    "version": 3
   },
   "file_extension": ".py",
   "mimetype": "text/x-python",
   "name": "python",
   "nbconvert_exporter": "python",
   "pygments_lexer": "ipython3",
   "version": "3.10.9"
  }
 },
 "nbformat": 4,
 "nbformat_minor": 5
}
