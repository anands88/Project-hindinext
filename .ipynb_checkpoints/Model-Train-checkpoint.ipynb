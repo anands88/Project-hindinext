{
 "cells": [
  {
   "cell_type": "code",
   "execution_count": 8,
   "id": "c77b040d",
   "metadata": {},
   "outputs": [],
   "source": [
    "import pickle\n",
    "import torch\n",
    "from torch import nn\n",
    "from torch.utils.data import Dataset,DataLoader"
   ]
  },
  {
   "cell_type": "code",
   "execution_count": 21,
   "id": "ff7c9ebd",
   "metadata": {},
   "outputs": [],
   "source": [
    "#Constants\n",
    "EPOCHS = 100\n",
    "LR = 0.01\n",
    "BATCH_SIZE = 64\n",
    "train_path = 'hello'\n",
    "test_path = 'hi'\n",
    "#train_path = '/home/dai001/Project/Dataset/Full-dataset/Full-dataset-NWP 1'"
   ]
  },
  {
   "cell_type": "code",
   "execution_count": null,
   "id": "2fcdf65c",
   "metadata": {},
   "outputs": [],
   "source": [
    "#load dictionary and reverse lookup dictionary\n",
    "with open('/home/dai001/Project/Dataset/wrd2id.dictionary','rb') as wp:\n",
    "    wrd2id = pickle.load(wp)\n",
    "with open('/home/dai001/Project/Dataset/id2wrd.dictionary','rb') as wp:\n",
    "    id2wrd = pickle.load(wp)"
   ]
  },
  {
   "cell_type": "code",
   "execution_count": 5,
   "id": "28aca8d2",
   "metadata": {},
   "outputs": [],
   "source": [
    "device = \"cuda\" if torch.cuda.is_available() else \"cpu\""
   ]
  },
  {
   "cell_type": "code",
   "execution_count": 24,
   "id": "881226fe",
   "metadata": {},
   "outputs": [],
   "source": [
    "#Custom dataset class\n",
    "class DS(Dataset):\n",
    "    def __init__(self,filepath,device):\n",
    "        self.device = device\n",
    "        self.path = filepath\n",
    "    \n",
    "    def __len__(self):\n",
    "        with open(self.path,'r') as wp:\n",
    "            l = sum(1 for _ in wp)\n",
    "        return l\n",
    "    \n",
    "    def __getitem__(self,idx):\n",
    "        with open(self.path,'r') as wp:\n",
    "            for _ in range(idx+1):\n",
    "                line = wp.readline()\n",
    "        features = ast.literal_eval(line.split()[0])\n",
    "        target = int(line.split()[1])\n",
    "        return features.to(self.device),target.to(self.device) \n",
    "    "
   ]
  },
  {
   "cell_type": "code",
   "execution_count": 25,
   "id": "791a0744",
   "metadata": {},
   "outputs": [],
   "source": [
    "# Creating dataset\n",
    "train_ds = DS(train_path,device)\n",
    "test_ds = DS(test_path,device)"
   ]
  },
  {
   "cell_type": "code",
   "execution_count": 26,
   "id": "ffaa6aa5",
   "metadata": {},
   "outputs": [],
   "source": [
    "# Creating dataloaders\n",
    "train_dl = DataLoader(train_ds,batch_size=BATCH_SIZE,shuffle=True,num_workers=1,prefetch_factor=4)\n",
    "test_dl = DataLoader(test_ds,batch_size=BATCH_SIZE,shuffle=True,num_workers=1,prefetch_factor=4)"
   ]
  },
  {
   "cell_type": "code",
   "execution_count": null,
   "id": "fb86a076",
   "metadata": {},
   "outputs": [],
   "source": []
  }
 ],
 "metadata": {
  "kernelspec": {
   "display_name": "Python 3 (ipykernel)",
   "language": "python",
   "name": "python3"
  },
  "language_info": {
   "codemirror_mode": {
    "name": "ipython",
    "version": 3
   },
   "file_extension": ".py",
   "mimetype": "text/x-python",
   "name": "python",
   "nbconvert_exporter": "python",
   "pygments_lexer": "ipython3",
   "version": "3.10.9"
  }
 },
 "nbformat": 4,
 "nbformat_minor": 5
}
