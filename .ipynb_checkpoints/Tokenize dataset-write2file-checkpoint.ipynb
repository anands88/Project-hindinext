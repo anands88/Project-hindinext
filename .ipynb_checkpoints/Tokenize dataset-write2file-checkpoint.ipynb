{
 "cells": [
  {
   "cell_type": "code",
   "execution_count": null,
   "id": "be08494a",
   "metadata": {},
   "outputs": [],
   "source": [
    "# Tokenizes the string\n",
    "#tokenize() takes in a string and returns a list of tokens\n",
    "# This file when run reads the clean-hindi-dataset and tokenize the whole dataset\n",
    "# It outputs the tokens into pickled files part by part (min_split_value = 10) => There will be 10 or 11 parts according to the size of the tokenized list"
   ]
  },
  {
   "cell_type": "code",
   "execution_count": 20,
   "id": "585e10a9",
   "metadata": {},
   "outputs": [],
   "source": [
    "import pickle\n",
    "import re\n",
    "from Clean_hindi_dataset import reader"
   ]
  },
  {
   "cell_type": "code",
   "execution_count": 12,
   "id": "4c16f7f6",
   "metadata": {},
   "outputs": [],
   "source": [
    "#loading word to id dictionary and reverse dictionary from pickle files\n",
    "with open('/home/dai001/Project/Dataset/wrd2id.dictionary','rb') as wp:\n",
    "    wrd2id = pickle.load(wp)\n",
    "with open('/home/dai001/Project/Dataset/id2wrd.dictionary','rb') as wp:\n",
    "    id2wrd = pickle.load(wp)"
   ]
  },
  {
   "cell_type": "code",
   "execution_count": 18,
   "id": "6447b740",
   "metadata": {},
   "outputs": [],
   "source": [
    "def tokenize(s):\n",
    "    #Adding space between symbols in the sentences\n",
    "    s = re.sub(r'([^\\s])([!\\\"$%&\\'()*+,-./:;=?@[\\\\\\]_`{|}।])',r\"\\1 \\2\",s)\n",
    "    s = re.sub(r'([!\\\"$%&\\'()*+,-./:;=?@[\\\\\\]_`{|}।])([^\\s])',r\"\\1 \\2\",s)\n",
    "    \n",
    "    #Splitting the sentence\n",
    "    return [wrd2id[i] if wrd2id.get(i)!=None else wrd2id['<OOV>'] for i in s.split()]\n",
    "\n",
    "        "
   ]
  },
  {
   "cell_type": "code",
   "execution_count": null,
   "id": "9ac87381",
   "metadata": {},
   "outputs": [],
   "source": [
    "if __name__ == \"__main__\":\n",
    "    \n",
    "    #Folder to load and write data\n",
    "    folderpath = \"/home/dai001/Project/Dataset/\"\n",
    "    input_filename = \"clean-hindi-dataset\"\n",
    "    output_filename = \"Tokenized-hindi-dataset\"\n",
    "    input_filepath = folderpath+input_filename\n",
    "    output_filepath = folderpath+output_filename\n",
    "    \n",
    "    \n",
    "    # reading from dataset and creating tokens\n",
    "    with open(input_filepath,'r') as fp:\n",
    "        with open(output_filepath,'a') as wp:\n",
    "\n",
    "            for s in reader(fp):\n",
    "                #checking if the sentence has spaces in between words.(Some sentence was found with no spaces in between words in dataset)\n",
    "                if not any([len(x)>=20 for x in s.split()]):\n",
    "                    tokens=tokenize(s)\n",
    "                    wp.write(str(tokens)+\"\\n\")\n",
    "                    \n",
    "    \n",
    "\n",
    "  \n",
    "    "
   ]
  },
  {
   "cell_type": "code",
   "execution_count": null,
   "id": "9fca3a85",
   "metadata": {},
   "outputs": [],
   "source": []
  }
 ],
 "metadata": {
  "kernelspec": {
   "display_name": "Python 3 (ipykernel)",
   "language": "python",
   "name": "python3"
  },
  "language_info": {
   "codemirror_mode": {
    "name": "ipython",
    "version": 3
   },
   "file_extension": ".py",
   "mimetype": "text/x-python",
   "name": "python",
   "nbconvert_exporter": "python",
   "pygments_lexer": "ipython3",
   "version": "3.10.9"
  }
 },
 "nbformat": 4,
 "nbformat_minor": 5
}
