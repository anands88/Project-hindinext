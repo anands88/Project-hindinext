{
 "cells": [
  {
   "cell_type": "markdown",
   "id": "1e2ac1b7",
   "metadata": {},
   "source": [
    "# Dataset for NSP\n",
    "For NSP we would need sentences with context so we are filtering out the paragraphs from the dataset and writing them to a new file."
   ]
  },
  {
   "cell_type": "code",
   "execution_count": 1,
   "id": "10b7b5d5",
   "metadata": {},
   "outputs": [],
   "source": [
    "from Clean_hindi_dataset import reader"
   ]
  },
  {
   "cell_type": "code",
   "execution_count": 2,
   "id": "560a2049",
   "metadata": {},
   "outputs": [],
   "source": [
    "folderpath = \"/media/dai/New Volume/Dataset/\"\n",
    "input_filename = \"clean-hindi-dataset\"\n",
    "output_filename = \"NSP-dataset\"\n",
    "input_filepath = folderpath+input_filename\n",
    "output_filepath = folderpath+output_filename"
   ]
  },
  {
   "cell_type": "code",
   "execution_count": 25,
   "id": "0d55c390",
   "metadata": {},
   "outputs": [
    {
     "name": "stdout",
     "output_type": "stream",
     "text": [
      "* * * * * * * * * * \n",
      "* * * * * * * * * * \n",
      "* * * * * * * * * * \n",
      "* * * * * * * * * * \n",
      "* * * * * * * * * * \n",
      "* * * * * * * * * * \n",
      "* * * * * * * * * * \n",
      "* * * * * * * * * * \n",
      "* * * * * * * * * * \n",
      "* * * * * * * * * * \n",
      "\n",
      "Total lines: 100304906\n",
      "Total lines with english words: 40497479\n",
      "CPU times: user 23min 23s, sys: 4min 50s, total: 28min 14s\n",
      "Wall time: 59min 45s\n"
     ]
    }
   ],
   "source": [
    "%%time\n",
    "\n",
    "line_counter = 0\n",
    "excluded_lines = 0\n",
    "\n",
    "with open(output_filepath,'w') as wp:\n",
    "    with open(input_filepath,'r') as fp:\n",
    "        \n",
    "        for s in reader(fp):\n",
    "            line_counter += 1\n",
    "            \n",
    "            #splitting paragraphs into sentences\n",
    "            sentences = s.split(\"।\")\n",
    "            \n",
    "            #sentences when split would have an empty string at the end so we use len > 2\n",
    "            if len(sentences)>2:\n",
    "                wp.write(s+\"\\n\\n\")\n",
    "            else:\n",
    "                excluded_lines += 1\n",
    "\n",
    "            #For visualizing the running process\n",
    "            if line_counter%1000000 == 0:\n",
    "                    print(\"*\",end=' ')\n",
    "                    if line_counter%10000000 == 0:\n",
    "                        print()\n",
    "                        \n",
    "        print(f\"\\nTotal lines: {line_counter}\")\n",
    "        print(f\"Total lines with english words: {excluded_lines}\")\n",
    "            "
   ]
  }
 ],
 "metadata": {
  "kernelspec": {
   "display_name": "Python 3 (ipykernel)",
   "language": "python",
   "name": "python3"
  },
  "language_info": {
   "codemirror_mode": {
    "name": "ipython",
    "version": 3
   },
   "file_extension": ".py",
   "mimetype": "text/x-python",
   "name": "python",
   "nbconvert_exporter": "python",
   "pygments_lexer": "ipython3",
   "version": "3.11.4"
  }
 },
 "nbformat": 4,
 "nbformat_minor": 5
}
