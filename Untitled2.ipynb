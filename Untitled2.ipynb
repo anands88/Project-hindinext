{
 "cells": [
  {
   "cell_type": "code",
   "execution_count": null,
   "id": "59240b28",
   "metadata": {},
   "outputs": [],
   "source": [
    "import torch\n",
    "import torch.nn as nn\n",
    "import fasttext"
   ]
  },
  {
   "cell_type": "code",
   "execution_count": null,
   "id": "f7bf5e3c",
   "metadata": {},
   "outputs": [],
   "source": [
    "class TransformerModel(nn.Module):\n",
    "    def __init__(self, embedding_matrix, nhead, num_encoder_layers, num_decoder_layers):\n",
    "        super(TransformerModel, self).__init__()\n",
    "        self.embedding = nn.Embedding.from_pretrained(embedding_matrix, freeze=True)\n",
    "        \n",
    "        self.transformer = nn.Transformer(\n",
    "            d_model=embedding_matrix.size(1), \n",
    "            nhead=nhead, \n",
    "            num_encoder_layers=num_encoder_layers,\n",
    "            num_decoder_layers=num_decoder_layers\n",
    "        )\n",
    "        \n",
    "        self.fc = nn.Linear(embedding_matrix.size(1), embedding_matrix.size(0))\n",
    "\n",
    "    def forward(self, src, tgt):\n",
    "        src_embedding = self.embedding(src)\n",
    "        tgt_embedding = self.embedding(tgt)\n",
    "        \n",
    "        src_embedding = src_embedding.permute(1, 0, 2)  # Permute to (seq_length, batch_size, embedding_dim)\n",
    "        tgt_embedding = tgt_embedding.permute(1, 0, 2)\n",
    "        \n",
    "        memory = self.transformer.encoder(src_embedding)\n",
    "        output = self.transformer.decoder(tgt_embedding, memory)\n",
    "        \n",
    "        output = output.permute(1, 0, 2)  # Permute back to (batch_size, seq_length, embedding_dim)\n",
    "        output = self.fc(output)\n",
    "        \n",
    "        return output\n",
    "\n",
    "# Load pre-trained FastText Hindi embeddings\n",
    "embedding_dim = 300  # Replace with the appropriate embedding dimension\n",
    "embedding_matrix = torch.load(\"path_to_fasttext_hindi_embeddings.pt\")\n",
    "\n",
    "# Example usage\n",
    "nhead = 4\n",
    "num_encoder_layers = 3\n",
    "num_decoder_layers = 3\n",
    "\n",
    "model = TransformerModel(embedding_matrix, nhead, num_encoder_layers, num_decoder_layers)\n",
    "\n",
    "# Generate random input tensors for demonstration\n",
    "batch_size = 16\n",
    "src_seq_length = 20\n",
    "tgt_seq_length = 15\n",
    "\n",
    "src_input = torch.randint(embedding_matrix.size(0), (src_seq_length, batch_size))\n",
    "tgt_input = torch.randint(embedding_matrix.size(0), (tgt_seq_length, batch_size))\n",
    "\n",
    "output = model(src_input, tgt_input)\n",
    "print(\"Output shape:\", output.shape)"
   ]
  }
 ],
 "metadata": {
  "kernelspec": {
   "display_name": "Python 3 (ipykernel)",
   "language": "python",
   "name": "python3"
  },
  "language_info": {
   "codemirror_mode": {
    "name": "ipython",
    "version": 3
   },
   "file_extension": ".py",
   "mimetype": "text/x-python",
   "name": "python",
   "nbconvert_exporter": "python",
   "pygments_lexer": "ipython3",
   "version": "3.10.9"
  }
 },
 "nbformat": 4,
 "nbformat_minor": 5
}
