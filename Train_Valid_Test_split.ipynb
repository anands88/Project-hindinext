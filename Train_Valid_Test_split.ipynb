{
 "cells": [
  {
   "cell_type": "code",
   "execution_count": 3,
   "id": "705d962e",
   "metadata": {},
   "outputs": [],
   "source": [
    "# Removes sentences that doesn't have spaces in between words from the clean-hindi-dataset"
   ]
  },
  {
   "cell_type": "code",
   "execution_count": 1,
   "id": "eba4fa97",
   "metadata": {},
   "outputs": [],
   "source": [
    "from Clean_hindi_dataset import reader"
   ]
  },
  {
   "cell_type": "code",
   "execution_count": 2,
   "id": "78920fde",
   "metadata": {},
   "outputs": [
    {
     "ename": "IndentationError",
     "evalue": "unexpected indent (214322886.py, line 2)",
     "output_type": "error",
     "traceback": [
      "\u001b[0;36m  Cell \u001b[0;32mIn[2], line 2\u001b[0;36m\u001b[0m\n\u001b[0;31m    folderpath = \"/home/dai001/Project/Dataset/\"\u001b[0m\n\u001b[0m    ^\u001b[0m\n\u001b[0;31mIndentationError\u001b[0m\u001b[0;31m:\u001b[0m unexpected indent\n"
     ]
    }
   ],
   "source": [
    "#Folder to load and write data\n",
    "folderpath = \"/home/dai001/Project/Dataset/\"\n",
    "input_filename = \"clean-hindi-dataset\"\n",
    "output_filename = \"new-clean-hindi-dataset\"\n",
    "input_filepath = folderpath+input_filename\n",
    "output_filepath = folderpath+output_filename"
   ]
  },
  {
   "cell_type": "code",
   "execution_count": null,
   "id": "8c625c04",
   "metadata": {},
   "outputs": [],
   "source": [
    "counter = 0\n",
    "i = 0\n",
    "postfix = ['train','valid','test']"
   ]
  },
  {
   "cell_type": "code",
   "execution_count": null,
   "id": "3c0d07dc",
   "metadata": {},
   "outputs": [],
   "source": [
    "with open(input_filepath,'r') as fp:\n",
    "    \n",
    "        \n",
    "        for s in reader(fp):\n",
    "            #checking if the sentence has spaces in between words.(Some sentence was found with no spaces in between words in dataset)\n",
    "            if not any([len(x)>=20 for x in s.split()]):\n",
    "                with open(output_filepath+f\" {postfix[i]}\",'a') as wp:\n",
    "                    wp.write(s+\"\\n\\n\")\n",
    "                counter += 1\n",
    "                \n",
    "            if counter > 80000000:\n",
    "                if counter > 90000000:\n",
    "                    i = 2\n",
    "                else:\n",
    "                    i = 1\n",
    "                "
   ]
  }
 ],
 "metadata": {
  "kernelspec": {
   "display_name": "Python 3 (ipykernel)",
   "language": "python",
   "name": "python3"
  },
  "language_info": {
   "codemirror_mode": {
    "name": "ipython",
    "version": 3
   },
   "file_extension": ".py",
   "mimetype": "text/x-python",
   "name": "python",
   "nbconvert_exporter": "python",
   "pygments_lexer": "ipython3",
   "version": "3.10.9"
  }
 },
 "nbformat": 4,
 "nbformat_minor": 5
}
